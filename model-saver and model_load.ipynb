{
 "cells": [
  {
   "cell_type": "code",
   "execution_count": null,
   "metadata": {},
   "outputs": [],
   "source": [
    "import tensorflow as tf\n",
    "v1=tf.Variable(tf.constant(1.0,shape=[1],name=\"v1\"))\n",
    "v1=tf.variable(tf.constant(2.0,shape=[1],name=\"v2\"))\n",
    "\n",
    "result=v1+v2\n",
    "init_op=tf.global_variables_initializer()\n",
    "saver=tf.train.Saver()\n",
    "\n",
    "with tf.Session() as sess:\n",
    "    sess.run(init_op)\n",
    "    saver.save(sess,\"/path/to/model/model.ckpt\")"
   ]
  },
  {
   "cell_type": "code",
   "execution_count": null,
   "metadata": {},
   "outputs": [],
   "source": [
    "import tensorflow as tf\n",
    "v1=tf.Variable(tf.constant(1.0,shape=[1],name=\"v1\"))\n",
    "v1=tf.variable(tf.constant(2.0,shape=[1],name=\"v2\"))\n",
    "\n",
    "result = v1+v2\n",
    "saver=tf.train.Saver()\n",
    "\n",
    "with tf.Session() as sess:\n",
    "    saver.restore(sess,\"/path/to.model/model.ckpt\")\n",
    "    print(sess.run(result))"
   ]
  }
 ],
 "metadata": {
  "kernelspec": {
   "display_name": "Python 3",
   "language": "python",
   "name": "python3"
  },
  "language_info": {
   "codemirror_mode": {
    "name": "ipython",
    "version": 3
   },
   "file_extension": ".py",
   "mimetype": "text/x-python",
   "name": "python",
   "nbconvert_exporter": "python",
   "pygments_lexer": "ipython3",
   "version": "3.6.5"
  }
 },
 "nbformat": 4,
 "nbformat_minor": 2
}
