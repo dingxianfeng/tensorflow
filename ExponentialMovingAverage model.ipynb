{
 "cells": [
  {
   "cell_type": "code",
   "execution_count": 7,
   "metadata": {},
   "outputs": [
    {
     "name": "stdout",
     "output_type": "stream",
     "text": [
      "[0.0, 0.0]\n",
      "[5.0, 4.5]\n",
      "[10.0, 4.555]\n",
      "[10.0, 4.60945]\n"
     ]
    }
   ],
   "source": [
    "#使模型在测试数据上更健壮的方法---滑动平均模型\n",
    "#tensorflow中提供了tf.train.ExponentialMovingAverage来实现滑动平均模型\n",
    "import tensorflow as tf\n",
    "#定义一个变量用于计算滑动平均，这个变量初始值为0 ，这里手动指定变量类型为float32，因为计算滑动平均的变量必须是实数型\n",
    "v1=tf.Variable(0,dtype=tf.float32)\n",
    "#这里的step模拟神经网络中迭代的轮数，可以用于动态控制衰减率\n",
    "step=tf.Variable(0,trainable=False)\n",
    "#定义一个滑动平均的类，初始化时给定来衰减率0.99，和控制衰减率的变量step，定义滑动平均的操作，给定一个列表。每次执行这个操作时\n",
    "#这个列表都会被更新\n",
    "ema=tf.train.ExponentialMovingAverage(0.99,step)\n",
    "maintain_averages_op=ema.apply([v1])\n",
    "\n",
    "with tf.Session() as sess:\n",
    "    init_op=tf.global_variables_initializer()\n",
    "    sess.run(init_op)\n",
    "    \n",
    "    print(sess.run([v1,ema.average(v1)]))\n",
    "    sess.run(tf.assign(v1,5))#更新对应的值\n",
    "    sess.run(maintain_averages_op)\n",
    "    print(sess.run([v1,ema.average(v1)]))\n",
    "    \n",
    "    sess.run(tf.assign(step,10000))\n",
    "    sess.run(tf.assign(v1,10))#更新对应的值\n",
    "    sess.run(maintain_averages_op)\n",
    "    print(sess.run([v1,ema.average(v1)]))\n",
    "    \n",
    "    sess.run(maintain_averages_op)\n",
    "    print(sess.run([v1,ema.average(v1)]))"
   ]
  },
  {
   "cell_type": "code",
   "execution_count": null,
   "metadata": {},
   "outputs": [],
   "source": []
  },
  {
   "cell_type": "code",
   "execution_count": null,
   "metadata": {},
   "outputs": [],
   "source": []
  }
 ],
 "metadata": {
  "kernelspec": {
   "display_name": "Python 3",
   "language": "python",
   "name": "python3"
  },
  "language_info": {
   "codemirror_mode": {
    "name": "ipython",
    "version": 3
   },
   "file_extension": ".py",
   "mimetype": "text/x-python",
   "name": "python",
   "nbconvert_exporter": "python",
   "pygments_lexer": "ipython3",
   "version": "3.6.5"
  }
 },
 "nbformat": 4,
 "nbformat_minor": 2
}
