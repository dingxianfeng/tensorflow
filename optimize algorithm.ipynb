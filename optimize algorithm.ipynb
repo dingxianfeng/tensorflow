{
 "cells": [
  {
   "cell_type": "code",
   "execution_count": 2,
   "metadata": {},
   "outputs": [
    {
     "ename": "NameError",
     "evalue": "name 'n' is not defined",
     "output_type": "error",
     "traceback": [
      "\u001b[0;31m--------------------------------------------------------------\u001b[0m",
      "\u001b[0;31mNameError\u001b[0m                    Traceback (most recent call last)",
      "\u001b[0;32m<ipython-input-2-3c9ebc565e43>\u001b[0m in \u001b[0;36m<module>\u001b[0;34m()\u001b[0m\n\u001b[1;32m      1\u001b[0m \u001b[0;31m#训练过程的模板\u001b[0m\u001b[0;34m\u001b[0m\u001b[0;34m\u001b[0m\u001b[0m\n\u001b[0;32m----> 2\u001b[0;31m \u001b[0mbatch_size\u001b[0m\u001b[0;34m=\u001b[0m\u001b[0mn\u001b[0m\u001b[0;34m\u001b[0m\u001b[0m\n\u001b[0m\u001b[1;32m      3\u001b[0m \u001b[0;31m#每次读取一部分来作为当前的训练的数据来执行反向传播算法\u001b[0m\u001b[0;34m\u001b[0m\u001b[0;34m\u001b[0m\u001b[0m\n\u001b[1;32m      4\u001b[0m \u001b[0mx\u001b[0m\u001b[0;34m=\u001b[0m\u001b[0mtf\u001b[0m\u001b[0;34m.\u001b[0m\u001b[0mplaceholder\u001b[0m\u001b[0;34m(\u001b[0m\u001b[0mtf\u001b[0m\u001b[0;34m.\u001b[0m\u001b[0mfloat32\u001b[0m\u001b[0;34m,\u001b[0m\u001b[0mshape\u001b[0m\u001b[0;34m=\u001b[0m\u001b[0;34m(\u001b[0m\u001b[0;32mNone\u001b[0m\u001b[0;34m,\u001b[0m\u001b[0;36m2\u001b[0m\u001b[0;34m)\u001b[0m\u001b[0;34m,\u001b[0m\u001b[0mname\u001b[0m\u001b[0;34m=\u001b[0m\u001b[0;34m'x-input'\u001b[0m\u001b[0;34m)\u001b[0m\u001b[0;34m\u001b[0m\u001b[0m\n\u001b[1;32m      5\u001b[0m \u001b[0my_\u001b[0m\u001b[0;34m=\u001b[0m\u001b[0mtf\u001b[0m\u001b[0;34m.\u001b[0m\u001b[0mplaceholder\u001b[0m\u001b[0;34m(\u001b[0m\u001b[0mtf\u001b[0m\u001b[0;34m.\u001b[0m\u001b[0mfloat32\u001b[0m\u001b[0;34m,\u001b[0m\u001b[0mshape\u001b[0m\u001b[0;34m=\u001b[0m\u001b[0;34m(\u001b[0m\u001b[0;32mNone\u001b[0m\u001b[0;34m,\u001b[0m\u001b[0;36m1\u001b[0m\u001b[0;34m)\u001b[0m\u001b[0;34m,\u001b[0m\u001b[0mname\u001b[0m\u001b[0;34m=\u001b[0m\u001b[0;34m'y-input'\u001b[0m\u001b[0;34m)\u001b[0m\u001b[0;34m\u001b[0m\u001b[0m\n",
      "\u001b[0;31mNameError\u001b[0m: name 'n' is not defined"
     ]
    }
   ],
   "source": [
    "#训练过程的模板\n",
    "batch_size=n\n",
    "#每次读取一部分来作为当前的训练的数据来执行反向传播算法\n",
    "x=tf.placeholder(tf.float32,shape=(None,2),name='x-input')\n",
    "y_=tf.placeholder(tf.float32,shape=(None,1),name='y-input')\n",
    "\n",
    "#定义神经网络结构和优化算法\n",
    "loss=...\n",
    "train_step=tf.train.AdamOptimizer(0.001).minimize(loss)\n",
    "\n",
    "#训练\n",
    "with tf.Session() as sess:\n",
    "    #参数初始化\n",
    "    init_op=tf.global_variables_initializer()\n",
    "    sess.run(init_op)\n",
    "    #迭代的参数更新\n",
    "    for i in range(STEPS):\n",
    "        current_X,current_Y=...\n",
    "        sess.run(train_step,feed_dict={x:current_X,y:current_Y})\n",
    "        "
   ]
  },
  {
   "cell_type": "code",
   "execution_count": null,
   "metadata": {},
   "outputs": [],
   "source": [
    "#一个5层的神经网络的带L2正则化损失函数计算方法,用集合（collection）的方法增加可读性\n",
    "import tensorflow as tf\n",
    "def get_weight(shape,lambda):\n",
    "    var=tf.Variable(tf.random_normal(shape),dtype=tf.float32)\n",
    "    tf.add_to_collection('losses',tf.contrib.layers.l2_regularizer(lambda)(var))\n",
    "    return var\n",
    "#获取一层神经网络的权重，并将这个权重的L2正则化损失加入到名为losses的集合中\n",
    "#addxxxx函数将这个生成的变量的L2正则化损失加入到这个集合，函数的第一个参数是集合名称，第二个参数是正则话的内容\n",
    "\n",
    "x=tf.placeholder(tf.float32,shape=(None,2))\n",
    "y_=tf.placeholder(tf.float32.shape=(None,1))\n",
    "batch_size=8\n",
    "\n",
    "layer_dimension=[2,10,10,10,1]#定义每一层网络节点的个数\n",
    "n_layers=len(layer_dimension)#神经网络的层数\n",
    "\n",
    "#这个变量维护前向传播是最深层的节点，开始的时候就是输入层\n",
    "cur_layer=x\n",
    "in_dimension=layer_dimension[0]\n",
    "\n",
    "#通过循环来生成一个5层的神经网络\n",
    "for i in range(1,n_layers):\n",
    "    out_dimension=layer_dimension[i]\n",
    "    #生成当前层中权重的变量，并将这个变量的L2正则化损失加入计算图上的集合\n",
    "    weight=get_weight([in_dimension,out_dimension],0.001)\n",
    "    bias=tf.Variable(tf.constant(0.1,shape=[out_dimension]))\n",
    "    cur_layer=tf.nn.relu(tf.matmul(cur_layer,weight)+bias)\n",
    "    #进入下一层之前将下一层的节点个数更新为当前层节点个数\n",
    "    in_dimension=layer_dimension[i]\n",
    "    \n",
    "#定义神经网络前向传播的同时已经将所有的L2正则化损失加入了图上的集合\n",
    "mse_loss=tf.reduce_mean(tf.square(y_-cur_layer))\n",
    "tf.add_to_collection('losses',mse_loss)\n",
    "\n",
    "#get_collection返回一个列表，这个列表是所有这个集合中的元素，在这个样例中，这些元素就是损失函数的不同部分，将他们加起来\n",
    "#就可以得到最终的损失函数\n",
    "loss=tf.add_n(tf.get_collection('losses'))\n"
   ]
  },
  {
   "cell_type": "code",
   "execution_count": null,
   "metadata": {},
   "outputs": [],
   "source": []
  }
 ],
 "metadata": {
  "kernelspec": {
   "display_name": "Python 3",
   "language": "python",
   "name": "python3"
  },
  "language_info": {
   "codemirror_mode": {
    "name": "ipython",
    "version": 3
   },
   "file_extension": ".py",
   "mimetype": "text/x-python",
   "name": "python",
   "nbconvert_exporter": "python",
   "pygments_lexer": "ipython3",
   "version": "3.6.5"
  }
 },
 "nbformat": 4,
 "nbformat_minor": 2
}
