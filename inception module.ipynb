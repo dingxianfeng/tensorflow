{
 "cells": [
  {
   "cell_type": "code",
   "execution_count": null,
   "metadata": {},
   "outputs": [],
   "source": [
    "slim=tf.contrib.slim\n",
    "with slim.arg_scope([slim.conv2d,slim.max_pool2d,slim.avg_pool2d],strde=1,padding='VALID'):\n",
    "\n",
    "#此处省略了inception——v3模型中其他的网络结构，实现一个模块\n",
    "net=上一层的输出节点矩阵\n",
    "\n",
    "with tf.variable_scope('Mixed_7c'):\n",
    "    with tf.variable_scope('Brach_0'):\n",
    "        branch_0=slim.conv2d(net,320,[1,1],scope='Conv2d_0a_1x1')\n",
    "        \n",
    "    with tf.variable_scope('Branch_1'):\n",
    "        branch_1=slim.conv2d(net,384,[1,1],scope='Conv2d_0a_1x1')\n",
    "        branch_1=tf.concat(3,[slim.conv2d(branch_1,384,[1,3],scope='Conv2d_0b_1x3'),\n",
    "                             slim.conv2d(branch_1,384,[3,1],scope='Conv2d_0b_3x1')])\n",
    "        \n",
    "    with tf.variable_scope('Branch_2'):\n",
    "        branch_2=slim.conv2d(net,448,[1,1],scope='Conv2d_0a_1x1')\n",
    "        branch_2=slim.conv2d(branch_2,384,[3,3],scope='Conv2d_0b_3x3')\n",
    "        branch_2=tf.concat(3,[slim.conv2d(branch_2,384,[1,3],scope='Conv2d_0c_1x3'),\n",
    "                             slim.conv2d(branch_2,384,[3,1],scope='Conv2d_0b_3x1')])\n",
    "        \n",
    "    with tf.variable_scope('Branch_3'):\n",
    "        branch_3=slim.avg_pool2d(net,[3,3],scope='AvgPool_0a_3x3')\n",
    "        branch_3=slim.conv2d(banch_3,192,[1,1],scope='Conv2d_0b_1x1')\n",
    "        \n",
    "    net=tf.concat(3,[branch_0,branch_1,branch_2,branch_3])"
   ]
  }
 ],
 "metadata": {
  "kernelspec": {
   "display_name": "Python 3",
   "language": "python",
   "name": "python3"
  },
  "language_info": {
   "codemirror_mode": {
    "name": "ipython",
    "version": 3
   },
   "file_extension": ".py",
   "mimetype": "text/x-python",
   "name": "python",
   "nbconvert_exporter": "python",
   "pygments_lexer": "ipython3",
   "version": "3.6.5"
  }
 },
 "nbformat": 4,
 "nbformat_minor": 2
}
